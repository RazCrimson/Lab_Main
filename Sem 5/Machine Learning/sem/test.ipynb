{
 "cells": [
  {
   "cell_type": "code",
   "execution_count": 10,
   "metadata": {},
   "outputs": [],
   "source": [
    "import pandas as pd\n",
    "import numpy as np\n",
    "import matplotlib.pyplot as plt"
   ]
  },
  {
   "cell_type": "code",
   "execution_count": 11,
   "metadata": {},
   "outputs": [],
   "source": [
    "df = pd.read_csv(\"./dataset/haberman.data\")"
   ]
  },
  {
   "cell_type": "code",
   "execution_count": 12,
   "metadata": {},
   "outputs": [
    {
     "name": "stdout",
     "output_type": "stream",
     "text": [
      "<class 'pandas.core.frame.DataFrame'>\n",
      "RangeIndex: 306 entries, 0 to 305\n",
      "Data columns (total 4 columns):\n",
      " #   Column             Non-Null Count  Dtype\n",
      "---  ------             --------------  -----\n",
      " 0   Age                306 non-null    int64\n",
      " 1   Year of Operation  306 non-null    int64\n",
      " 2   Nodes Detected     306 non-null    int64\n",
      " 3   Survival           306 non-null    int64\n",
      "dtypes: int64(4)\n",
      "memory usage: 9.7 KB\n"
     ]
    }
   ],
   "source": [
    "df.info()"
   ]
  },
  {
   "cell_type": "code",
   "execution_count": 13,
   "metadata": {},
   "outputs": [
    {
     "data": {
      "text/plain": [
       "(306, 4)"
      ]
     },
     "execution_count": 13,
     "metadata": {},
     "output_type": "execute_result"
    }
   ],
   "source": [
    "df.shape"
   ]
  },
  {
   "cell_type": "code",
   "execution_count": 14,
   "metadata": {},
   "outputs": [
    {
     "data": {
      "text/html": [
       "<div>\n",
       "<style scoped>\n",
       "    .dataframe tbody tr th:only-of-type {\n",
       "        vertical-align: middle;\n",
       "    }\n",
       "\n",
       "    .dataframe tbody tr th {\n",
       "        vertical-align: top;\n",
       "    }\n",
       "\n",
       "    .dataframe thead th {\n",
       "        text-align: right;\n",
       "    }\n",
       "</style>\n",
       "<table border=\"1\" class=\"dataframe\">\n",
       "  <thead>\n",
       "    <tr style=\"text-align: right;\">\n",
       "      <th></th>\n",
       "      <th>Age</th>\n",
       "      <th>Year of Operation</th>\n",
       "      <th>Nodes Detected</th>\n",
       "      <th>Survival</th>\n",
       "    </tr>\n",
       "  </thead>\n",
       "  <tbody>\n",
       "    <tr>\n",
       "      <th>count</th>\n",
       "      <td>306.000000</td>\n",
       "      <td>306.000000</td>\n",
       "      <td>306.000000</td>\n",
       "      <td>306.000000</td>\n",
       "    </tr>\n",
       "    <tr>\n",
       "      <th>mean</th>\n",
       "      <td>52.457516</td>\n",
       "      <td>62.852941</td>\n",
       "      <td>4.026144</td>\n",
       "      <td>1.264706</td>\n",
       "    </tr>\n",
       "    <tr>\n",
       "      <th>std</th>\n",
       "      <td>10.803452</td>\n",
       "      <td>3.249405</td>\n",
       "      <td>7.189654</td>\n",
       "      <td>0.441899</td>\n",
       "    </tr>\n",
       "    <tr>\n",
       "      <th>min</th>\n",
       "      <td>30.000000</td>\n",
       "      <td>58.000000</td>\n",
       "      <td>0.000000</td>\n",
       "      <td>1.000000</td>\n",
       "    </tr>\n",
       "    <tr>\n",
       "      <th>25%</th>\n",
       "      <td>44.000000</td>\n",
       "      <td>60.000000</td>\n",
       "      <td>0.000000</td>\n",
       "      <td>1.000000</td>\n",
       "    </tr>\n",
       "    <tr>\n",
       "      <th>50%</th>\n",
       "      <td>52.000000</td>\n",
       "      <td>63.000000</td>\n",
       "      <td>1.000000</td>\n",
       "      <td>1.000000</td>\n",
       "    </tr>\n",
       "    <tr>\n",
       "      <th>75%</th>\n",
       "      <td>60.750000</td>\n",
       "      <td>65.750000</td>\n",
       "      <td>4.000000</td>\n",
       "      <td>2.000000</td>\n",
       "    </tr>\n",
       "    <tr>\n",
       "      <th>max</th>\n",
       "      <td>83.000000</td>\n",
       "      <td>69.000000</td>\n",
       "      <td>52.000000</td>\n",
       "      <td>2.000000</td>\n",
       "    </tr>\n",
       "  </tbody>\n",
       "</table>\n",
       "</div>"
      ],
      "text/plain": [
       "              Age  Year of Operation  Nodes Detected    Survival\n",
       "count  306.000000         306.000000      306.000000  306.000000\n",
       "mean    52.457516          62.852941        4.026144    1.264706\n",
       "std     10.803452           3.249405        7.189654    0.441899\n",
       "min     30.000000          58.000000        0.000000    1.000000\n",
       "25%     44.000000          60.000000        0.000000    1.000000\n",
       "50%     52.000000          63.000000        1.000000    1.000000\n",
       "75%     60.750000          65.750000        4.000000    2.000000\n",
       "max     83.000000          69.000000       52.000000    2.000000"
      ]
     },
     "execution_count": 14,
     "metadata": {},
     "output_type": "execute_result"
    }
   ],
   "source": [
    "df.describe()"
   ]
  },
  {
   "cell_type": "markdown",
   "metadata": {},
   "source": [
    "## Preprocessing"
   ]
  },
  {
   "cell_type": "code",
   "execution_count": 15,
   "metadata": {},
   "outputs": [
    {
     "data": {
      "text/html": [
       "<div>\n",
       "<style scoped>\n",
       "    .dataframe tbody tr th:only-of-type {\n",
       "        vertical-align: middle;\n",
       "    }\n",
       "\n",
       "    .dataframe tbody tr th {\n",
       "        vertical-align: top;\n",
       "    }\n",
       "\n",
       "    .dataframe thead th {\n",
       "        text-align: right;\n",
       "    }\n",
       "</style>\n",
       "<table border=\"1\" class=\"dataframe\">\n",
       "  <thead>\n",
       "    <tr style=\"text-align: right;\">\n",
       "      <th></th>\n",
       "      <th>Age</th>\n",
       "      <th>Year of Operation</th>\n",
       "      <th>Nodes Detected</th>\n",
       "      <th>Survival</th>\n",
       "    </tr>\n",
       "  </thead>\n",
       "  <tbody>\n",
       "    <tr>\n",
       "      <th>0</th>\n",
       "      <td>30</td>\n",
       "      <td>64</td>\n",
       "      <td>1</td>\n",
       "      <td>True</td>\n",
       "    </tr>\n",
       "    <tr>\n",
       "      <th>1</th>\n",
       "      <td>30</td>\n",
       "      <td>62</td>\n",
       "      <td>3</td>\n",
       "      <td>True</td>\n",
       "    </tr>\n",
       "    <tr>\n",
       "      <th>2</th>\n",
       "      <td>30</td>\n",
       "      <td>65</td>\n",
       "      <td>0</td>\n",
       "      <td>True</td>\n",
       "    </tr>\n",
       "    <tr>\n",
       "      <th>3</th>\n",
       "      <td>31</td>\n",
       "      <td>59</td>\n",
       "      <td>2</td>\n",
       "      <td>True</td>\n",
       "    </tr>\n",
       "    <tr>\n",
       "      <th>4</th>\n",
       "      <td>31</td>\n",
       "      <td>65</td>\n",
       "      <td>4</td>\n",
       "      <td>True</td>\n",
       "    </tr>\n",
       "  </tbody>\n",
       "</table>\n",
       "</div>"
      ],
      "text/plain": [
       "   Age  Year of Operation  Nodes Detected  Survival\n",
       "0   30                 64               1      True\n",
       "1   30                 62               3      True\n",
       "2   30                 65               0      True\n",
       "3   31                 59               2      True\n",
       "4   31                 65               4      True"
      ]
     },
     "execution_count": 15,
     "metadata": {},
     "output_type": "execute_result"
    }
   ],
   "source": [
    "df.loc[(df.Survival == 2),'Survival'] = 0 \n",
    "df['Survival'] = df['Survival'].astype(bool)\n",
    "df.head()"
   ]
  },
  {
   "cell_type": "code",
   "execution_count": 16,
   "metadata": {},
   "outputs": [],
   "source": [
    "X = df.loc[:, df.columns != 'Survival'] \n",
    "Y = df['Survival']"
   ]
  },
  {
   "cell_type": "code",
   "execution_count": 17,
   "metadata": {},
   "outputs": [
    {
     "data": {
      "text/html": [
       "<div>\n",
       "<style scoped>\n",
       "    .dataframe tbody tr th:only-of-type {\n",
       "        vertical-align: middle;\n",
       "    }\n",
       "\n",
       "    .dataframe tbody tr th {\n",
       "        vertical-align: top;\n",
       "    }\n",
       "\n",
       "    .dataframe thead th {\n",
       "        text-align: right;\n",
       "    }\n",
       "</style>\n",
       "<table border=\"1\" class=\"dataframe\">\n",
       "  <thead>\n",
       "    <tr style=\"text-align: right;\">\n",
       "      <th></th>\n",
       "      <th>Age</th>\n",
       "      <th>Year of Operation</th>\n",
       "      <th>Nodes Detected</th>\n",
       "    </tr>\n",
       "  </thead>\n",
       "  <tbody>\n",
       "    <tr>\n",
       "      <th>0</th>\n",
       "      <td>-2.078735</td>\n",
       "      <td>0.353006</td>\n",
       "      <td>-0.420903</td>\n",
       "    </tr>\n",
       "    <tr>\n",
       "      <th>1</th>\n",
       "      <td>-2.078735</td>\n",
       "      <td>-0.262492</td>\n",
       "      <td>-0.142725</td>\n",
       "    </tr>\n",
       "    <tr>\n",
       "      <th>2</th>\n",
       "      <td>-2.078735</td>\n",
       "      <td>0.660755</td>\n",
       "      <td>-0.559991</td>\n",
       "    </tr>\n",
       "    <tr>\n",
       "      <th>3</th>\n",
       "      <td>-1.986172</td>\n",
       "      <td>-1.185738</td>\n",
       "      <td>-0.281814</td>\n",
       "    </tr>\n",
       "    <tr>\n",
       "      <th>4</th>\n",
       "      <td>-1.986172</td>\n",
       "      <td>0.660755</td>\n",
       "      <td>-0.003636</td>\n",
       "    </tr>\n",
       "  </tbody>\n",
       "</table>\n",
       "</div>"
      ],
      "text/plain": [
       "        Age  Year of Operation  Nodes Detected\n",
       "0 -2.078735           0.353006       -0.420903\n",
       "1 -2.078735          -0.262492       -0.142725\n",
       "2 -2.078735           0.660755       -0.559991\n",
       "3 -1.986172          -1.185738       -0.281814\n",
       "4 -1.986172           0.660755       -0.003636"
      ]
     },
     "execution_count": 17,
     "metadata": {},
     "output_type": "execute_result"
    }
   ],
   "source": [
    "X = (X - X.mean())/X.std()\n",
    "X.head()"
   ]
  },
  {
   "cell_type": "markdown",
   "metadata": {},
   "source": [
    "### Using Gridsearch to choose optimal value for hyper parameter"
   ]
  },
  {
   "cell_type": "code",
   "execution_count": 18,
   "metadata": {},
   "outputs": [
    {
     "name": "stdout",
     "output_type": "stream",
     "text": [
      "Selected hyperparameters:  SVC(C=0.75, kernel='sigmoid')\n",
      "              precision    recall  f1-score   support\n",
      "\n",
      "       False       0.47      0.21      0.29        81\n",
      "        True       0.76      0.92      0.83       225\n",
      "\n",
      "    accuracy                           0.73       306\n",
      "   macro avg       0.62      0.56      0.56       306\n",
      "weighted avg       0.69      0.73      0.69       306\n",
      "\n"
     ]
    },
    {
     "data": {
      "image/png": "[encoded data removed]",
      "text/plain": [
       "<Figure size 432x288 with 1 Axes>"
      ]
     },
     "metadata": {
      "needs_background": "light"
     },
     "output_type": "display_data"
    },
    {
     "name": "stdout",
     "output_type": "stream",
     "text": [
      "ROC AUC   :  0.5627160493827161\n",
      "Confusion Matrix: \n",
      " [[ 17  64]\n",
      " [ 19 206]]\n"
     ]
    }
   ],
   "source": [
    "from sklearn.metrics import classification_report, roc_curve, roc_auc_score, confusion_matrix\n",
    "from sklearn.model_selection import GridSearchCV, train_test_split\n",
    "from sklearn.svm import SVC\n",
    "\n",
    "X_train, X_test, Y_train, Y_test = train_test_split(X, Y, test_size=0.33)\n",
    "\n",
    "params_grid = {\n",
    "    'C': [0.001, 0.01, 0.1, 0.5, 0.75, 1, 1.25, 1.5, 10, 100],\n",
    "    'kernel':['linear','rbf', 'poly', 'sigmoid'] \n",
    "}\n",
    "\n",
    "clf = GridSearchCV(SVC(), params_grid)\n",
    "clf.fit(X_train, Y_train)\n",
    "y_pred = clf.predict(X)\n",
    "print(\"Selected hyperparameters: \", clf.best_estimator_ )\n",
    "print(classification_report(Y, y_pred))\n",
    "fpr, tpr, thresholds = roc_curve(Y, y_pred)\n",
    "plt.plot(fpr, tpr)\n",
    "plt.title(\"ROC Curve\")\n",
    "plt.show()\n",
    "print('ROC AUC   : ', roc_auc_score(Y, y_pred))\n",
    "print('Confusion Matrix: \\n', confusion_matrix(Y, y_pred))"
   ]
  },
  {
   "cell_type": "markdown",
   "metadata": {},
   "source": [
    "### Constructing 2D Scatter plot with hyperplane"
   ]
  },
  {
   "cell_type": "markdown",
   "metadata": {},
   "source": [
    "#### Utility function to compute PCA"
   ]
  },
  {
   "cell_type": "code",
   "execution_count": 19,
   "metadata": {},
   "outputs": [],
   "source": [
    "\n",
    "def compute_pca(df, k):\n",
    "    df = df.copy()    \n",
    "    cov_matrix_list = []\n",
    "    for y in df['Survival'].unique():\n",
    "        df_class = df.loc[df['Survival'] == y]\n",
    "        df_class = df_class.loc[:, df_class.columns != 'Survival']     \n",
    "        df_class = (df_class - df_class.mean())/df_class.std()\n",
    "        df_class = df_class - df_class.mean()\n",
    "        cov_matrix_list.append(df_class.cov())\n",
    "    eigen_values, eigen_vectors = np.linalg.eig(np.mean(cov_matrix_list, axis=0))\n",
    "    principal_comp = np.array([eigen_vectors.T[i] for i in np.argpartition(eigen_values, -k)[-k:]]).T\n",
    "    X = df.loc[:, df.columns != 'Survival'] \n",
    "    X = (X-X.mean())/X.std()\n",
    "    return np.dot(X, principal_comp)\n"
   ]
  },
  {
   "cell_type": "markdown",
   "metadata": {},
   "source": [
    "#### Building newer model with the previously found best parameters and plotting"
   ]
  },
  {
   "cell_type": "code",
   "execution_count": 20,
   "metadata": {},
   "outputs": [
    {
     "data": {
      "image/png": "[encoded data removed]",
      "text/plain": [
       "<Figure size 432x288 with 1 Axes>"
      ]
     },
     "metadata": {
      "needs_background": "light"
     },
     "output_type": "display_data"
    }
   ],
   "source": [
    "from sklearn.model_selection import train_test_split\n",
    "from sklearn.svm import SVC\n",
    "\n",
    "X = compute_pca(df, 2)\n",
    "X_train, X_test, Y_train, Y_test = train_test_split(X, Y, test_size=0.33)\n",
    "\n",
    "clf = SVC(**clf.best_params_)\n",
    "clf.fit(X_train, Y_train)\n",
    "clf.fit(X, Y)\n",
    "\n",
    "plt.scatter(X[:, 0], X[:, 1], c=Y, s=30, cmap=plt.cm.Paired)\n",
    "\n",
    "# Plot the decision function\n",
    "ax = plt.gca()\n",
    "xlim = ax.get_xlim()\n",
    "ylim = ax.get_ylim()\n",
    "\n",
    "# create grid to evaluate model\n",
    "xx = np.linspace(xlim[0], xlim[1], 30)\n",
    "yy = np.linspace(ylim[0], ylim[1], 30)\n",
    "YY, XX = np.meshgrid(yy, xx)\n",
    "xy = np.vstack([XX.ravel(), YY.ravel()]).T\n",
    "Z = clf.decision_function(xy).reshape(XX.shape)\n",
    "\n",
    "ax.contour(XX, YY, Z, colors=\"k\", levels=[-1, 0, 1], alpha=0.5, linestyles=[\"--\", \"-\", \"--\"])\n",
    "\n",
    "# plot support vectors\n",
    "ax.scatter(\n",
    "    clf.support_vectors_[:, 0],\n",
    "    clf.support_vectors_[:, 1],\n",
    "    s=100,\n",
    "    linewidth=1,\n",
    "    facecolors=\"none\",\n",
    "    edgecolors=\"k\",\n",
    ")\n",
    "plt.show()"
   ]
  },
  {
   "cell_type": "code",
   "execution_count": 29,
   "metadata": {},
   "outputs": [
    {
     "name": "stdout",
     "output_type": "stream",
     "text": [
      "K = 1 gives 36.46% of possible variance\n",
      "K = 2 gives 66.75% of possible variance\n",
      "K = 3 gives 100.0% of possible variance\n"
     ]
    }
   ],
   "source": [
    "def compute_variance_proportion_for_pca(df):\n",
    "    df = df.copy()    \n",
    "    cov_matrix_list = []\n",
    "    for y in df['Survival'].unique():\n",
    "        df_class = df.loc[df['Survival'] == y]\n",
    "        df_class = df_class.loc[:, df_class.columns != 'Survival']     \n",
    "        df_class = (df_class - df_class.mean())/df_class.std()\n",
    "        df_class = df_class - df_class.mean()\n",
    "        cov_matrix_list.append(df_class.cov())\n",
    "    eigen_values, eigen_vectors = np.linalg.eig(np.mean(cov_matrix_list, axis=0))\n",
    "    for i in range(len(eigen_values)):\n",
    "        print(\"K =\", i + 1, f\"gives {round(sum(eigen_values[: i + 1])/sum(eigen_values) * 100, 2)}% of possible variance\")\n",
    "\n",
    "compute_variance_proportion_for_pca(df)"
   ]
  }
 ],
 "metadata": {
  "interpreter": {
   "hash": "5ca5ac03726943f9525bb978d16db335d5e02c14a6640bbcfbe2e7ff8ca44ce9"
  },
  "kernelspec": {
   "display_name": "Python 3.9.6 64-bit ('venv': venv)",
   "language": "python",
   "name": "python3"
  },
  "language_info": {
   "codemirror_mode": {
    "name": "ipython",
    "version": 3
   },
   "file_extension": ".py",
   "mimetype": "text/x-python",
   "name": "python",
   "nbconvert_exporter": "python",
   "pygments_lexer": "ipython3",
   "version": "3.9.9"
  },
  "orig_nbformat": 4
 },
 "nbformat": 4,
 "nbformat_minor": 2
}
