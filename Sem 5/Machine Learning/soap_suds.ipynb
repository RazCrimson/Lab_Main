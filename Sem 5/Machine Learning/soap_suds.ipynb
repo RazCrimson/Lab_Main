{
 "cells": [
  {
   "cell_type": "code",
   "execution_count": 8,
   "source": [
    "import numpy as np\n",
    "from sklearn.linear_model import LinearRegression\n",
    "from matplotlib import pyplot"
   ],
   "outputs": [],
   "metadata": {}
  },
  {
   "cell_type": "code",
   "execution_count": 9,
   "source": [
    "x = np.array([[1, 4], [1, 4.5], [1, 5], [1, 5.5], [1, 6], [1, 6.5], [1, 7]])\n",
    "y = np.array([33, 42, 45, 51, 53, 61, 62])\n",
    "\n",
    "x_xt = np.dot(x.T, x)\n",
    "xt_y =  np.dot(x.T, y.T)\n",
    "\n",
    "weights = np.dot(np.linalg.inv(x_xt), xt_y)\n",
    "weights"
   ],
   "outputs": [
    {
     "output_type": "execute_result",
     "data": {
      "text/plain": [
       "array([-2.67857143,  9.5       ])"
      ]
     },
     "metadata": {},
     "execution_count": 9
    }
   ],
   "metadata": {}
  },
  {
   "cell_type": "code",
   "execution_count": 10,
   "source": [
    "model = LinearRegression()\n",
    "model.fit(x,y)\n",
    "print(f\"Intercept: {model.intercept_}, Coefficients: {model.coef_}\")"
   ],
   "outputs": [
    {
     "output_type": "stream",
     "name": "stdout",
     "text": [
      "Intercept: -2.6785714285714235, Coefficients: [0.  9.5]\n"
     ]
    }
   ],
   "metadata": {}
  }
 ],
 "metadata": {
  "orig_nbformat": 4,
  "language_info": {
   "name": "python",
   "version": "3.9.6",
   "mimetype": "text/x-python",
   "codemirror_mode": {
    "name": "ipython",
    "version": 3
   },
   "pygments_lexer": "ipython3",
   "nbconvert_exporter": "python",
   "file_extension": ".py"
  },
  "kernelspec": {
   "name": "python3",
   "display_name": "Python 3.9.6 64-bit ('venv': venv)"
  },
  "interpreter": {
   "hash": "5ca5ac03726943f9525bb978d16db335d5e02c14a6640bbcfbe2e7ff8ca44ce9"
  }
 },
 "nbformat": 4,
 "nbformat_minor": 2
}